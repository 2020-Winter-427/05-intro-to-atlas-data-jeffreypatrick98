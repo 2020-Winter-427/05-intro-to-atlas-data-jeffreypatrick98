{
 "cells": [
  {
   "cell_type": "markdown",
   "metadata": {},
   "source": [
    "**Lab 5: Intro to Atlas Data Pt.1**  \n",
    "Jeffrey Patrick  \n",
    "Phys 427 February 11th, 2020  \n"
   ]
  },
  {
   "cell_type": "code",
   "execution_count": 2,
   "metadata": {
    "scrolled": true
   },
   "outputs": [
    {
     "name": "stdout",
     "output_type": "stream",
     "text": [
      "Collecting uproot\n",
      "\u001b[?25l  Downloading https://files.pythonhosted.org/packages/6d/fb/5d62be2dd24245eabdc7802b27ba784698134445ef07b71ecf0baf0993dd/uproot-3.11.3-py2.py3-none-any.whl (114kB)\n",
      "\u001b[K     |████████████████████████████████| 122kB 3.5MB/s eta 0:00:01\n",
      "\u001b[?25hCollecting cachetools (from uproot)\n",
      "  Downloading https://files.pythonhosted.org/packages/08/6a/abf83cb951617793fd49c98cb9456860f5df66ff89883c8660aa0672d425/cachetools-4.0.0-py3-none-any.whl\n",
      "Collecting uproot-methods>=0.7.0 (from uproot)\n",
      "  Downloading https://files.pythonhosted.org/packages/f9/ef/ebda89e281a85f73dac69e56c1c26c94bd711efa6386dc6028b630ca92b3/uproot_methods-0.7.3-py2.py3-none-any.whl\n",
      "Collecting awkward<1.0,>=0.12.0 (from uproot)\n",
      "\u001b[?25l  Downloading https://files.pythonhosted.org/packages/73/ce/f7af4702cb2c52d550fa357855b34ff82e388ee5285ba2d26ff7d41395d1/awkward-0.12.20-py2.py3-none-any.whl (87kB)\n",
      "\u001b[K     |████████████████████████████████| 92kB 5.2MB/s eta 0:00:011\n",
      "\u001b[?25hRequirement already satisfied: numpy>=1.13.1 in ./opt/anaconda3/lib/python3.7/site-packages (from uproot) (1.17.2)\n",
      "Installing collected packages: cachetools, awkward, uproot-methods, uproot\n",
      "Successfully installed awkward-0.12.20 cachetools-4.0.0 uproot-3.11.3 uproot-methods-0.7.3\n",
      "Note: you may need to restart the kernel to use updated packages.\n"
     ]
    }
   ],
   "source": [
    "pip install uproot"
   ]
  },
  {
   "cell_type": "code",
   "execution_count": 43,
   "metadata": {},
   "outputs": [],
   "source": [
    "import uproot\n",
    "import numpy as np\n",
    "import matplotlib.pyplot as plt"
   ]
  },
  {
   "cell_type": "code",
   "execution_count": 85,
   "metadata": {},
   "outputs": [],
   "source": [
    "file1 = uproot.open(\"data_A.4lep.root\")\n",
    "file2 = uproot.open(\"data_B.4lep.root\")\n",
    "file3 = uproot.open(\"data_C.4lep.root\")\n",
    "file4 = uproot.open(\"data_D.4lep.root\")\n",
    "\n",
    "file1.keys()\n",
    "tree1 = file1[\"mini\"]\n",
    "tree2 = file2[\"mini\"]\n",
    "tree3 = file3[\"mini\"]\n",
    "tree4 = file4[\"mini\"]\n",
    "\n",
    "t1 = tree1.array(\"lep_n\")\n",
    "t2 = tree2.array(\"lep_n\")\n",
    "t3 = tree3.array(\"lep_n\")\n",
    "t4 = tree4.array(\"lep_n\")\n",
    "\n",
    "a = np.append(t1, t2)\n",
    "b = np.append(t3, t4)\n",
    "c = np.append(a, b)\n"
   ]
  },
  {
   "cell_type": "code",
   "execution_count": 83,
   "metadata": {},
   "outputs": [
    {
     "data": {
      "text/plain": [
       "Text(0.5, 1.0, 'Histogram of Leptons')"
      ]
     },
     "execution_count": 83,
     "metadata": {},
     "output_type": "execute_result"
    },
    {
     "data": {
      "image/png": "[encoded data removed]",
      "text/plain": [
       "<Figure size 432x288 with 1 Axes>"
      ]
     },
     "metadata": {
      "needs_background": "light"
     },
     "output_type": "display_data"
    }
   ],
   "source": [
    "plt.hist(c, bins=np.arange(min(c), max(c) + 2, 1))\n",
    "plt.yscale('log')\n",
    "plt.xlabel('Number of Leptons')\n",
    "plt.title('Histogram of Leptons')"
   ]
  },
  {
   "cell_type": "code",
   "execution_count": null,
   "metadata": {},
   "outputs": [],
   "source": []
  }
 ],
 "metadata": {
  "kernelspec": {
   "display_name": "Python 3",
   "language": "python",
   "name": "python3"
  },
  "language_info": {
   "codemirror_mode": {
    "name": "ipython",
    "version": 3
   },
   "file_extension": ".py",
   "mimetype": "text/x-python",
   "name": "python",
   "nbconvert_exporter": "python",
   "pygments_lexer": "ipython3",
   "version": "3.7.4"
  }
 },
 "nbformat": 4,
 "nbformat_minor": 2
}
