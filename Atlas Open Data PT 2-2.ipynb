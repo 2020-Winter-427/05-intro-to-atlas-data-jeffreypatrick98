{
 "cells": [
  {
   "cell_type": "markdown",
   "metadata": {},
   "source": [
    "**Lab 5: Intro to Atlas Data Pt. 2**  \n",
    "Jeffrey Patrick  \n",
    "Phys 427 February 11th, 2020  "
   ]
  },
  {
   "cell_type": "markdown",
   "metadata": {},
   "source": [
    "A Lorentz 4 Vector contains both the energy and momentum, or space and time, of a particle in one vector that doesn't change under coordinate transformations. The Invariant Mass of a particle is the magnitude of the particle's Lorentz 4 Vector, $E^2 - p^2$, and is the particle's mass in its own rest frame. These are both important terms to know because with them we can solve for things such as the mass of the Higgs Boson. Knowing the Lorentz 4 Vectors of two resulting particles after a decay, we can solve for the mass of the original particle. \n"
   ]
  },
  {
   "cell_type": "code",
   "execution_count": 138,
   "metadata": {},
   "outputs": [
    {
     "name": "stdout",
     "output_type": "stream",
     "text": [
      "Requirement already satisfied: uproot-methods in ./opt/anaconda3/lib/python3.7/site-packages (0.7.3)\n",
      "Requirement already satisfied: awkward>=0.11.0 in ./opt/anaconda3/lib/python3.7/site-packages (from uproot-methods) (0.12.20)\n",
      "Requirement already satisfied: numpy>=1.13.1 in ./opt/anaconda3/lib/python3.7/site-packages (from uproot-methods) (1.17.2)\n",
      "Note: you may need to restart the kernel to use updated packages.\n"
     ]
    }
   ],
   "source": [
    "pip install uproot-methods"
   ]
  },
  {
   "cell_type": "code",
   "execution_count": 46,
   "metadata": {},
   "outputs": [
    {
     "name": "stdout",
     "output_type": "stream",
     "text": [
      "Requirement already satisfied: awkward in ./opt/anaconda3/lib/python3.7/site-packages (0.12.20)\n",
      "Requirement already satisfied: numpy>=1.13.1 in ./opt/anaconda3/lib/python3.7/site-packages (from awkward) (1.17.2)\n",
      "Note: you may need to restart the kernel to use updated packages.\n"
     ]
    }
   ],
   "source": [
    "pip install awkward"
   ]
  },
  {
   "cell_type": "code",
   "execution_count": 249,
   "metadata": {},
   "outputs": [],
   "source": [
    "import uproot\n",
    "import numpy as np\n",
    "import matplotlib.pyplot as plt\n",
    "import pandas as pd\n",
    "import awkward\n",
    "import uproot_methods"
   ]
  },
  {
   "cell_type": "code",
   "execution_count": 556,
   "metadata": {},
   "outputs": [
    {
     "data": {
      "text/plain": [
       "array([4, 4, 4, 4, 4, 4, 4, 4, 4, 4, 4, 4, 4, 4, 4, 4, 4, 4, 4, 4, 4, 4,\n",
       "       4, 4, 4, 4, 4, 4, 4, 4, 4, 4, 4, 4, 4, 4, 4, 4, 4, 4, 4, 4, 4, 4,\n",
       "       4, 4, 4, 4, 4, 4, 4, 4, 4, 4, 4, 4, 4, 4, 4, 4, 4, 4, 4, 4],\n",
       "      dtype=uint32)"
      ]
     },
     "execution_count": 556,
     "metadata": {},
     "output_type": "execute_result"
    }
   ],
   "source": [
    "#importing MC simulated data with uproot\n",
    "file1 = uproot.open(\"mc_364114.Zee_PTV0_70_CVetoBVeto.4lep.root\")[\"mini\"]\n",
    "\n",
    "#create arrays of Energy, pt, eta, phi using leaves from MC file\n",
    "E, pt, eta, phi = file1.arrays([\"lep_E\", \"lep_pt\", \"lep_eta\", \"lep_phi\"], outputtype=tuple)\n",
    "n, charge, lep_type = file1.arrays([\"lep_n\", \"lep_charge\", \"lep_type\"], outputtype=tuple)\n",
    "\n",
    "n\n",
    "#after printing the \"n\" array, I see that all the entries are 4, therefore the for the first cut we take every\n",
    "#every row since every run has more than 2 leptons."
   ]
  },
  {
   "cell_type": "markdown",
   "metadata": {},
   "source": [
    "In order to pick the specific pairs of leptons that satisfy the requirements for a Z-ee decay I created 2 jagged arrays of unqiue pairs of leptons using distincts(). For the 2nd cut I wanted to remove all lepton pairs with the same charge. Using unzip() I split each pair and then create a boolian mask \"maskc\" telling me which pairs are the same or different. When I apply maskc to our original \"c\" jagged array of the lepton pairs python returns a jagged array of all the pairs which are oppositely charged. I applied the same steps to delete the leptons with different types by creating another boolian mask \"maskt\". With my two masks, I apply them in order to the E, pt, eta, and phi arrays and split the leftover pairs of lepton into a left and right jagged array."
   ]
  },
  {
   "cell_type": "code",
   "execution_count": 557,
   "metadata": {},
   "outputs": [],
   "source": [
    "#2nd cut:oppositely charged leptons\n",
    "\n",
    "c = charge.distincts()\n",
    "\n",
    "\n",
    "#3rd cut:same type leptons\n",
    "\n",
    "t = lep_type.distincts()\n"
   ]
  },
  {
   "cell_type": "code",
   "execution_count": 558,
   "metadata": {},
   "outputs": [],
   "source": [
    "#create maskc\n",
    "leftc, rightc = c.unzip()\n",
    "leftc, rightc\n",
    "\n",
    "maskc = leftc != rightc"
   ]
  },
  {
   "cell_type": "code",
   "execution_count": 559,
   "metadata": {},
   "outputs": [],
   "source": [
    "c_oppo = c[maskc]"
   ]
  },
  {
   "cell_type": "code",
   "execution_count": 560,
   "metadata": {},
   "outputs": [],
   "source": [
    "#create maskt\n",
    "t_oppo= t[maskc]\n",
    "\n",
    "leftt, rightt = t_oppo.unzip()\n",
    "leftt, rightt\n",
    "\n",
    "maskt = leftt == rightt"
   ]
  },
  {
   "cell_type": "code",
   "execution_count": 561,
   "metadata": {},
   "outputs": [],
   "source": [
    "#choose the pt, eta, phi, and E values of lepton pairs that satisfy cuts\n",
    "pt1 = pt.distincts()\n",
    "pt1_oppo = pt1[maskc]\n",
    "pt1_t = pt1_oppo[maskt]\n",
    "\n",
    "leftpt, rightpt = pt1_t.unzip()\n",
    "\n",
    "eta1 = eta.distincts()\n",
    "eta1_oppo = eta1[maskc]\n",
    "eta1_t = eta1_oppo[maskt]\n",
    "\n",
    "lefteta, righteta = eta1_t.unzip()\n",
    "\n",
    "phi1 = phi.distincts()\n",
    "phi1_oppo = phi1[maskc]\n",
    "phi1_t = phi1_oppo[maskt]\n",
    "\n",
    "leftphi, rightphi = phi1_t.unzip()\n",
    "\n",
    "E1 = E.distincts()\n",
    "E1_oppo = E1[maskc]\n",
    "E1_t = E1_oppo[maskt]\n",
    "\n",
    "leftE, rightE = E1_t.unzip()"
   ]
  },
  {
   "cell_type": "code",
   "execution_count": 562,
   "metadata": {},
   "outputs": [],
   "source": [
    "#split into left and right\n",
    "left_lep = uproot_methods.TLorentzVectorArray.from_ptetaphie(leftpt/1000., lefteta, leftphi, leftE/1000.)\n",
    "right_lep = uproot_methods.TLorentzVectorArray.from_ptetaphie(rightpt/1000., righteta, rightphi, rightE/1000.)\n",
    "\n",
    "\n",
    "invmass = np.sqrt(((left_lep.t + right_lep.t)**2) - (left_lep.x + right_lep.x)**2 -\n",
    "                    (left_lep.y + right_lep.y)**2 - (left_lep.z + right_lep.z)**2)"
   ]
  },
  {
   "cell_type": "code",
   "execution_count": 563,
   "metadata": {},
   "outputs": [
    {
     "data": {
      "text/plain": [
       "Text(0.5, 1.0, 'Invariant Mass of Z Boson, Using MC Data')"
      ]
     },
     "execution_count": 563,
     "metadata": {},
     "output_type": "execute_result"
    },
    {
     "data": {
      "image/png": "[encoded data removed]",
      "text/plain": [
       "<Figure size 432x288 with 1 Axes>"
      ]
     },
     "metadata": {
      "needs_background": "light"
     },
     "output_type": "display_data"
    }
   ],
   "source": [
    "#plot histogram of invariant mass of Z boson using the MC simulated data\n",
    "counts, edges = np.histogram(invmass.flatten(), bins=15)\n",
    "plt.step(x=edges, y=np.append(counts, 0), where=\"post\");\n",
    "plt.xlim(edges[0], edges[-1]);\n",
    "plt.ylim(0, counts.max() * 1.1);\n",
    "plt.xlabel(\"mass\");\n",
    "plt.ylabel(\"events per bin\");\n",
    "plt.title(\"Invariant Mass of Z Boson, Using MC Data\")"
   ]
  },
  {
   "cell_type": "code",
   "execution_count": 564,
   "metadata": {},
   "outputs": [
    {
     "data": {
      "text/plain": [
       "array([4, 4, 4, 4, 4, 4, 4, 4, 4, 4, 4, 4, 4, 4, 4, 4, 4, 4, 4, 4, 4, 4,\n",
       "       4, 4, 4, 4, 4, 4, 4, 4, 4, 4, 4, 4, 4, 4, 4, 4, 4], dtype=uint32)"
      ]
     },
     "execution_count": 564,
     "metadata": {},
     "output_type": "execute_result"
    }
   ],
   "source": [
    "#open 4 lepton data using uproot\n",
    "file2 = uproot.open(\"data_A.4lep.root\")[\"mini\"]\n",
    "\n",
    "E2, pt2, eta2, phi2 = file2.arrays([\"lep_E\", \"lep_pt\", \"lep_eta\", \"lep_phi\"], outputtype=tuple)\n",
    "n2, charge2, lep_type2 = file2.arrays([\"lep_n\", \"lep_charge\", \"lep_type\"], outputtype=tuple)\n",
    "\n",
    "n2"
   ]
  },
  {
   "cell_type": "code",
   "execution_count": 565,
   "metadata": {},
   "outputs": [],
   "source": [
    "c2 = charge2.distincts()\n",
    "\n",
    "t2 = lep_type2.distincts()"
   ]
  },
  {
   "cell_type": "code",
   "execution_count": 566,
   "metadata": {},
   "outputs": [],
   "source": [
    "#create maskc2\n",
    "leftc2, rightc2 = c2.unzip()\n",
    "leftc2, rightc2\n",
    "\n",
    "maskc2 = leftc2 != rightc2"
   ]
  },
  {
   "cell_type": "code",
   "execution_count": 567,
   "metadata": {},
   "outputs": [],
   "source": [
    "c_oppo2 = c2[maskc2]"
   ]
  },
  {
   "cell_type": "code",
   "execution_count": 568,
   "metadata": {},
   "outputs": [],
   "source": [
    "#create maskt2\n",
    "t_oppo2= t2[maskc2]\n",
    "\n",
    "leftt2, rightt2 = t_oppo2.unzip()\n",
    "leftt2, rightt2\n",
    "\n",
    "maskt2 = leftt2 == rightt2"
   ]
  },
  {
   "cell_type": "code",
   "execution_count": 569,
   "metadata": {},
   "outputs": [],
   "source": [
    "#choose the pt, eta, phi, and E values of lepton pairs that satisfy cuts\n",
    "pt1_2 = pt2.distincts()\n",
    "pt1_oppo2 = pt1_2[maskc2]\n",
    "pt1_t2 = pt1_oppo2[maskt2]\n",
    "\n",
    "leftpt2, rightpt2 = pt1_t2.unzip()\n",
    "\n",
    "eta1_2 = eta2.distincts()\n",
    "eta1_oppo2 = eta1_2[maskc2]\n",
    "eta1_t2 = eta1_oppo2[maskt2]\n",
    "\n",
    "lefteta2, righteta2 = eta1_t2.unzip()\n",
    "\n",
    "phi1_2 = phi2.distincts()\n",
    "phi1_oppo2 = phi1_2[maskc2]\n",
    "phi1_t2 = phi1_oppo2[maskt2]\n",
    "\n",
    "leftphi2, rightphi2 = phi1_t2.unzip()\n",
    "\n",
    "E1_2 = E2.distincts()\n",
    "E1_oppo2 = E1_2[maskc2]\n",
    "E1_t2 = E1_oppo2[maskt2]\n",
    "\n",
    "leftE2, rightE2 = E1_t2.unzip()"
   ]
  },
  {
   "cell_type": "code",
   "execution_count": 570,
   "metadata": {},
   "outputs": [],
   "source": [
    "#split into left and right \n",
    "left_lep2 = uproot_methods.TLorentzVectorArray.from_ptetaphie(leftpt2/1000., lefteta2, leftphi2, leftE2/1000.)\n",
    "right_lep2 = uproot_methods.TLorentzVectorArray.from_ptetaphie(rightpt2/1000., righteta2, rightphi2, rightE2/1000.)\n",
    "\n",
    "\n",
    "invmass2 = np.sqrt(((left_lep2.t + right_lep2.t)**2) - (left_lep2.x + right_lep2.x)**2 -\n",
    "                    (left_lep2.y + right_lep2.y)**2 - (left_lep2.z + right_lep2.z)**2)"
   ]
  },
  {
   "cell_type": "code",
   "execution_count": 571,
   "metadata": {},
   "outputs": [
    {
     "data": {
      "text/plain": [
       "Text(0.5, 1.0, 'Invariant Mass of Z Boson')"
      ]
     },
     "execution_count": 571,
     "metadata": {},
     "output_type": "execute_result"
    },
    {
     "data": {
      "image/png": "[encoded data removed]",
      "text/plain": [
       "<Figure size 432x288 with 1 Axes>"
      ]
     },
     "metadata": {
      "needs_background": "light"
     },
     "output_type": "display_data"
    }
   ],
   "source": [
    "#plot histogram of invariant mass of Z boson using 4 lepton data\n",
    "counts, edges = np.histogram(invmass2.flatten(), bins=15)\n",
    "plt.step(x=edges, y=np.append(counts, 0), where=\"post\");\n",
    "plt.xlim(edges[0], edges[-1]);\n",
    "plt.ylim(0, counts.max() * 1.1);\n",
    "plt.xlabel(\"mass\");\n",
    "plt.ylabel(\"events per bin\");\n",
    "plt.title(\"Invariant Mass of Z Boson\")"
   ]
  }
 ],
 "metadata": {
  "kernelspec": {
   "display_name": "Python 3",
   "language": "python",
   "name": "python3"
  },
  "language_info": {
   "codemirror_mode": {
    "name": "ipython",
    "version": 3
   },
   "file_extension": ".py",
   "mimetype": "text/x-python",
   "name": "python",
   "nbconvert_exporter": "python",
   "pygments_lexer": "ipython3",
   "version": "3.7.4"
  }
 },
 "nbformat": 4,
 "nbformat_minor": 2
}
